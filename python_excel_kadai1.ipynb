{
  "nbformat": 4,
  "nbformat_minor": 0,
  "metadata": {
    "colab": {
      "provenance": []
    },
    "kernelspec": {
      "name": "python3",
      "display_name": "Python 3"
    },
    "language_info": {
      "name": "python"
    }
  },
  "cells": [
    {
      "cell_type": "code",
      "execution_count": null,
      "metadata": {
        "colab": {
          "base_uri": "https://localhost:8080/"
        },
        "id": "QTCdpwy1j1Xs",
        "outputId": "abf6c769-cd93-42ad-a005-ec8d45e53f54"
      },
      "outputs": [
        {
          "output_type": "stream",
          "name": "stdout",
          "text": [
            "Collecting numpy==1.24.4\n",
            "  Downloading numpy-1.24.4.tar.gz (10.9 MB)\n",
            "\u001b[?25l     \u001b[90m━━━━━━━━━━━━━━━━━━━━━━━━━━━━━━━━━━━━━━━━\u001b[0m \u001b[32m0.0/10.9 MB\u001b[0m \u001b[31m?\u001b[0m eta \u001b[36m-:--:--\u001b[0m\r\u001b[2K     \u001b[91m╸\u001b[0m\u001b[90m━━━━━━━━━━━━━━━━━━━━━━━━━━━━━━━━━━━━━━━\u001b[0m \u001b[32m0.3/10.9 MB\u001b[0m \u001b[31m8.5 MB/s\u001b[0m eta \u001b[36m0:00:02\u001b[0m\r\u001b[2K     \u001b[91m━━━━━━━━━\u001b[0m\u001b[91m╸\u001b[0m\u001b[90m━━━━━━━━━━━━━━━━━━━━━━━━━━━━━━\u001b[0m \u001b[32m2.7/10.9 MB\u001b[0m \u001b[31m39.1 MB/s\u001b[0m eta \u001b[36m0:00:01\u001b[0m\r\u001b[2K     \u001b[91m━━━━━━━━━━━━━━━━━━━━━━━━━\u001b[0m\u001b[90m╺\u001b[0m\u001b[90m━━━━━━━━━━━━━━\u001b[0m \u001b[32m6.9/10.9 MB\u001b[0m \u001b[31m64.4 MB/s\u001b[0m eta \u001b[36m0:00:01\u001b[0m\r\u001b[2K     \u001b[91m━━━━━━━━━━━━━━━━━━━━━━━━━━━━━━━━━━━━━━\u001b[0m\u001b[91m╸\u001b[0m \u001b[32m10.9/10.9 MB\u001b[0m \u001b[31m118.5 MB/s\u001b[0m eta \u001b[36m0:00:01\u001b[0m\r\u001b[2K     \u001b[91m━━━━━━━━━━━━━━━━━━━━━━━━━━━━━━━━━━━━━━\u001b[0m\u001b[91m╸\u001b[0m \u001b[32m10.9/10.9 MB\u001b[0m \u001b[31m118.5 MB/s\u001b[0m eta \u001b[36m0:00:01\u001b[0m\r\u001b[2K     \u001b[90m━━━━━━━━━━━━━━━━━━━━━━━━━━━━━━━━━━━━━━━━\u001b[0m \u001b[32m10.9/10.9 MB\u001b[0m \u001b[31m75.9 MB/s\u001b[0m eta \u001b[36m0:00:00\u001b[0m\n",
            "\u001b[?25h  Installing build dependencies ... \u001b[?25l\u001b[?25hdone\n",
            "  \u001b[1;31merror\u001b[0m: \u001b[1msubprocess-exited-with-error\u001b[0m\n",
            "  \n",
            "  \u001b[31m×\u001b[0m \u001b[32mGetting requirements to build wheel\u001b[0m did not run successfully.\n",
            "  \u001b[31m│\u001b[0m exit code: \u001b[1;36m1\u001b[0m\n",
            "  \u001b[31m╰─>\u001b[0m See above for output.\n",
            "  \n",
            "  \u001b[1;35mnote\u001b[0m: This error originates from a subprocess, and is likely not a problem with pip.\n",
            "  Getting requirements to build wheel ... \u001b[?25l\u001b[?25herror\n",
            "\u001b[1;31merror\u001b[0m: \u001b[1msubprocess-exited-with-error\u001b[0m\n",
            "\n",
            "\u001b[31m×\u001b[0m \u001b[32mGetting requirements to build wheel\u001b[0m did not run successfully.\n",
            "\u001b[31m│\u001b[0m exit code: \u001b[1;36m1\u001b[0m\n",
            "\u001b[31m╰─>\u001b[0m See above for output.\n",
            "\n",
            "\u001b[1;35mnote\u001b[0m: This error originates from a subprocess, and is likely not a problem with pip.\n"
          ]
        }
      ],
      "source": [
        "!pip install numpy==1.24.4 pandas==1.5.3 openpyxl==3.0.10"
      ]
    },
    {
      "cell_type": "code",
      "source": [
        "import openpyxl"
      ],
      "metadata": {
        "id": "nwuPXMLHkwwV"
      },
      "execution_count": 4,
      "outputs": []
    },
    {
      "cell_type": "code",
      "source": [
        "from os import WSTOPPED\n",
        "\n",
        "# 日付定義\n",
        "today = datetime.today().date()\n",
        "# ファイル名定義\n",
        "filename = (f'請求書_{today.strftime(\"%Y%m%d\")}.xlsx')\n",
        "# ファイル新規作成\n",
        "workbook = openpyxl.Workbook()\n",
        "# ワークシートアクティブ\n",
        "ws = workbook.active\n",
        "\n",
        "# セルに値を入力\n",
        "ws['B2'] = '請求書'\n",
        "ws['B4'] = '株式会社ABC'\n",
        "ws['B5'] = '〒101-0022 東京都千代田区神田練塀町300'\n",
        "ws['B6'] = 'TEL:03-1234-5678 FAX:03-1234-5678'\n",
        "ws['B7'] = '担当者名:鈴木一郎 様'\n",
        "\n",
        "ws['B15'] = '合計'\n",
        "ws['B16'] = '消費税'\n",
        "ws['B17'] = '税込み合計'\n",
        "\n",
        "ws['F4'] = 'No.'\n",
        "ws['G4'] = '0001'\n",
        "\n",
        "ws['F5'] = '日付'\n",
        "ws['G5'] = today.strftime('%Y/%m/%d')\n",
        "\n",
        "# -----------------------------\n",
        "# 商品表（10行目から開始）\n",
        "# -----------------------------\n",
        "header = ['商品名', '単価', '数量', '売上']\n",
        "data = [\n",
        "    ['商品A', 10000, 2, 20000],\n",
        "    ['商品B', 15000, 1, 15000],\n",
        "]\n",
        "\n",
        "start_row = 10  # ヘッダー行の開始位置\n",
        "\n",
        "# ヘッダー書き込み（B10:E10）\n",
        "for col, value in enumerate(header, start=2):  # B列=2\n",
        "    ws.cell(row=start_row, column=col, value=value)\n",
        "\n",
        "# データ書き込み（B11:E12）\n",
        "for i, row in enumerate(data, start=1):\n",
        "    for j, value in enumerate(row, start=2):\n",
        "        ws.cell(row=start_row + i, column=j, value=value)\n",
        "\n",
        "# -----------------------------\n",
        "# 合計計算\n",
        "# -----------------------------\n",
        "# データ範囲\n",
        "first_data_row = start_row + 1\n",
        "last_data_row = start_row + len(data)\n",
        "\n",
        "# 合計 = 売上列(E列)の合計\n",
        "ws['E13'] = f\"=SUM(E{first_data_row}:E{last_data_row})\"\n",
        "ws['E15'] = \"=E13\"\n",
        "ws['E16'] = \"=E13*0.1\"\n",
        "ws['E17'] = \"=E15+E16\"\n",
        "\n",
        "# ファイル保存\n",
        "workbook.save(filename)"
      ],
      "metadata": {
        "id": "MC33UKRjlVLG"
      },
      "execution_count": 11,
      "outputs": []
    },
    {
      "cell_type": "code",
      "source": [
        "from datetime import datetime"
      ],
      "metadata": {
        "id": "3Wy8LF_poI7Q"
      },
      "execution_count": 2,
      "outputs": []
    }
  ]
}