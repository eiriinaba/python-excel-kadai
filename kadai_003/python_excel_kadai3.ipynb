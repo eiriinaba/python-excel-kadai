{
  "nbformat": 4,
  "nbformat_minor": 0,
  "metadata": {
    "colab": {
      "provenance": []
    },
    "kernelspec": {
      "name": "python3",
      "display_name": "Python 3"
    },
    "language_info": {
      "name": "python"
    }
  },
  "cells": [
    {
      "cell_type": "code",
      "execution_count": 7,
      "metadata": {
        "colab": {
          "base_uri": "https://localhost:8080/"
        },
        "id": "rxzKIgrOnsJV",
        "outputId": "e8f9790a-1825-43ef-acd3-984f9949e45c"
      },
      "outputs": [
        {
          "output_type": "stream",
          "name": "stdout",
          "text": [
            "Collecting numpy==1.24.4\n",
            "  Downloading numpy-1.24.4.tar.gz (10.9 MB)\n",
            "\u001b[2K     \u001b[90m━━━━━━━━━━━━━━━━━━━━━━━━━━━━━━━━━━━━━━━━\u001b[0m \u001b[32m10.9/10.9 MB\u001b[0m \u001b[31m63.0 MB/s\u001b[0m eta \u001b[36m0:00:00\u001b[0m\n",
            "\u001b[?25h  Installing build dependencies ... \u001b[?25l\u001b[?25hdone\n",
            "  \u001b[1;31merror\u001b[0m: \u001b[1msubprocess-exited-with-error\u001b[0m\n",
            "  \n",
            "  \u001b[31m×\u001b[0m \u001b[32mGetting requirements to build wheel\u001b[0m did not run successfully.\n",
            "  \u001b[31m│\u001b[0m exit code: \u001b[1;36m1\u001b[0m\n",
            "  \u001b[31m╰─>\u001b[0m See above for output.\n",
            "  \n",
            "  \u001b[1;35mnote\u001b[0m: This error originates from a subprocess, and is likely not a problem with pip.\n",
            "  Getting requirements to build wheel ... \u001b[?25l\u001b[?25herror\n",
            "\u001b[1;31merror\u001b[0m: \u001b[1msubprocess-exited-with-error\u001b[0m\n",
            "\n",
            "\u001b[31m×\u001b[0m \u001b[32mGetting requirements to build wheel\u001b[0m did not run successfully.\n",
            "\u001b[31m│\u001b[0m exit code: \u001b[1;36m1\u001b[0m\n",
            "\u001b[31m╰─>\u001b[0m See above for output.\n",
            "\n",
            "\u001b[1;35mnote\u001b[0m: This error originates from a subprocess, and is likely not a problem with pip.\n"
          ]
        }
      ],
      "source": [
        "!pip install numpy==1.24.4 pandas==1.5.3 openpyxl==3.0.10"
      ]
    },
    {
      "cell_type": "code",
      "source": [
        "import pandas as pd\n",
        "from openpyxl import load_workbook     # ← 追加！\n",
        "from openpyxl.styles import PatternFill\n",
        "\n",
        "file_list = ['2022_年間売上表.xlsx', '2023_年間売上表.xlsx']\n",
        "\n",
        "df = pd.DataFrame()\n",
        "for file_name in file_list:\n",
        "    temp_df = pd.read_excel(file_name)\n",
        "    temp_df.columns = ['売上年', '商品', '金額']\n",
        "    df = pd.concat([df, temp_df], ignore_index=True)\n",
        "result = df.groupby(['商品','売上年'])['金額'].sum().reset_index()\n",
        "writer = pd.ExcelWriter('売上集計表.xlsx',engine=\"openpyxl\")\n",
        "result.to_excel(writer, sheet_name='Sheet1', index=False)\n",
        "writer.close()\n",
        "\n",
        "workbook = load_workbook('売上集計表.xlsx')\n",
        "sheet = workbook.active\n",
        "fill = PatternFill(patternType='solid', fgColor=\"FFF2F2F2\")\n",
        "for col in range(1, 4):\n",
        "    sheet.cell(row=1, column=col).fill = fill\n",
        "workbook.save('売上集計表.xlsx')"
      ],
      "metadata": {
        "id": "kCSdsN7Cot7f"
      },
      "execution_count": 19,
      "outputs": []
    }
  ]
}